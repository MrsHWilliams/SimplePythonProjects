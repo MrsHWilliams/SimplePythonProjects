{
 "cells": [
  {
   "cell_type": "code",
   "execution_count": 11,
   "metadata": {},
   "outputs": [
    {
     "name": "stdout",
     "output_type": "stream",
     "text": [
      "Enter the start date(yyyy-mm-dd): 2011-11-23\n",
      "Enter the start date(yyyy-mm-dd): 2011-11-29\n"
     ]
    }
   ],
   "source": [
    "import re\n",
    "import glob\n",
    "from skipdict import SkipDict\n",
    "\n",
    "pattern = re.compile(r'(?<=Name:)\\w+(?:-PC)?')\n",
    "\n",
    "drop_count = {}\n",
    "disconnects = {}\n",
    "average_limit = {}\n",
    "av,dl,dis = 0,0,0\n",
    "path = \"logs/\"\n",
    "start_date  = int(input(\"Enter the start date(yyyy-mm-dd): \").replace(\"-\",\"\"))\n",
    "end_date= int(input(\"Enter the start date(yyyy-mm-dd): \").replace(\"-\",\"\"))"
   ]
  },
  {
   "cell_type": "code",
   "execution_count": 12,
   "metadata": {
    "scrolled": true
   },
   "outputs": [],
   "source": [
    "def calculate(files):\n",
    "    \n",
    "    global drop_count\n",
    "    global disconnects\n",
    "    global average_limit\n",
    "    global av,dl,dis\n",
    "    \n",
    "    for file in files:\n",
    "        with open (file, \"r\") as f:\n",
    "            for line in f:\n",
    "                if line != '\\n':\n",
    "                    if \"Average limit\" in line:\n",
    "                        i = pattern.search(line).group()\n",
    "                        av+=1\n",
    "                        average_limit[i]=av\n",
    "                    elif \"Drop count limit\" in line:\n",
    "                        i = pattern.search(line).group()\n",
    "                        dl+=1\n",
    "                        drop_count[i]=dl\n",
    "                    elif \"disconnected\" in line:\n",
    "                        i = pattern.search(line).group()\n",
    "                        dis+=1\n",
    "                        disconnects[i]=dis\n",
    "    return SkipDict(average_limit), SkipDict(drop_count), SkipDict(disconnects)"
   ]
  },
  {
   "cell_type": "code",
   "execution_count": 13,
   "metadata": {},
   "outputs": [],
   "source": [
    "def get_files(s_date, e_date):\n",
    "\n",
    "    filenames = []\n",
    "    files = glob.glob(path+'*')\n",
    "    for file in files:\n",
    "        x = int(file[-12:-4])\n",
    "        if x >= s_date and x < e_date:\n",
    "            filenames.append(file)\n",
    "    return filenames"
   ]
  },
  {
   "cell_type": "code",
   "execution_count": 14,
   "metadata": {},
   "outputs": [],
   "source": [
    "result = calculate(get_files(start_date, end_date))"
   ]
  },
  {
   "cell_type": "code",
   "execution_count": 16,
   "metadata": {
    "scrolled": true
   },
   "outputs": [
    {
     "name": "stdout",
     "output_type": "stream",
     "text": [
      "Report for Average Limit Exceeded: \n",
      "JESSICA-PC 146\n",
      "KCUTSHALL-PC 331\n",
      "\n",
      "Report for Drop Counts: \n",
      "PELHAMLAPTOP 18\n",
      "COMPUTER2 20\n",
      "KCUTSHALL-PC 93\n",
      "\n",
      "Report for Disonnects: \n",
      "APTPELHAM 10\n",
      "FRONTOFFICEPELH 11\n",
      "APTOFFICE 12\n",
      "CHELLAPTOP2 15\n",
      "BETHGARWICK 20\n",
      "COMPUTER2 22\n",
      "NITIN 25\n",
      "APT 27\n",
      "PELHAMLAPTOP 28\n",
      "KCUTSHALL-PC 30\n",
      "FRONTOFFICE 31\n"
     ]
    }
   ],
   "source": [
    "print(\"Report for Average Limit Exceeded: \")\n",
    "for x, y in result[0].items():\n",
    "    print(x, int(y))\n",
    "print(\"\\nReport for Drop Counts: \")\n",
    "for x, y in result[1].items():\n",
    "    print(x, int(y))\n",
    "print(\"\\nReport for Disonnects: \")\n",
    "for x, y in result[2].items():\n",
    "    print(x, int(y))"
   ]
  },
  {
   "cell_type": "code",
   "execution_count": null,
   "metadata": {},
   "outputs": [],
   "source": []
  },
  {
   "cell_type": "code",
   "execution_count": null,
   "metadata": {},
   "outputs": [],
   "source": []
  }
 ],
 "metadata": {
  "kernelspec": {
   "display_name": "Python 3",
   "language": "python",
   "name": "python3"
  },
  "language_info": {
   "codemirror_mode": {
    "name": "ipython",
    "version": 3
   },
   "file_extension": ".py",
   "mimetype": "text/x-python",
   "name": "python",
   "nbconvert_exporter": "python",
   "pygments_lexer": "ipython3",
   "version": "3.7.4"
  }
 },
 "nbformat": 4,
 "nbformat_minor": 2
}
