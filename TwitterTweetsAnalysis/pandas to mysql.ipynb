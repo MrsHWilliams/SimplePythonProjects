{
 "cells": [
  {
   "cell_type": "code",
   "execution_count": 11,
   "metadata": {},
   "outputs": [
    {
     "name": "stdout",
     "output_type": "stream",
     "text": [
      "<class 'pandas.core.frame.DataFrame'>\n",
      "Int64Index: 20849 entries, 0 to 20855\n",
      "Data columns (total 3 columns):\n",
      "id       20849 non-null int64\n",
      "lang     20849 non-null object\n",
      "tweet    20849 non-null object\n",
      "dtypes: int64(1), object(2)\n",
      "memory usage: 651.5+ KB\n"
     ]
    }
   ],
   "source": [
    "import pandas as pd\n",
    "import re\n",
    "import pymysql\n",
    "from sqlalchemy import create_engine\n",
    "\n",
    "db_data = 'mysql+pymysql://' + 'suleman' + ':' + 'root' + '@' + 'localhost' + ':3306/' \\\n",
    "       + 'twitter' + '?charset=utf8mb4'\n",
    "# Connect to the database\n",
    "db = pymysql.connect(host='localhost',\n",
    "                             user='suleman',\n",
    "                             password='root',\n",
    "                             db='twitter',\n",
    "                             charset='utf8mb4',\n",
    "                             cursorclass=pymysql.cursors.DictCursor)\n",
    "engine = create_engine(db_data)\n",
    "\n",
    "pattern  = r\"RT|(http:\\/\\/|https:\\/\\/).*|@(\\w+)|\\w+…|\\w+\\.\\.|#(\\w+)*(?:[\\u0900-\\u097F]?)+\"\n",
    "csvfile = pd.read_csv(\"tweets2112121.csv\", usecols=['tweet_id', 'text', 'language'])\n",
    "\n",
    "csvfile.columns = ['id', 'lang', 'tweet']\n",
    "csvfile.drop_duplicates(subset='id',keep=\"first\", inplace=True)\n",
    "l = len(csvfile[\"id\"])\n",
    "csvfile.info()"
   ]
  },
  {
   "cell_type": "code",
   "execution_count": 12,
   "metadata": {},
   "outputs": [],
   "source": [
    "   # x = re.sub(pattern,\"\",csvfile[\"text\"][i])\n",
    "    #x=re.sub(\"\\s{2,}|[^0-9a-zA-Z|^\\u0900-\\u097F|^\\s]\",\"\",x)\n",
    "    #print(x.strip())\n",
    "    \n",
    "def filter(data):\n",
    "    x = re.sub(pattern,\"\",data)\n",
    "    x = re.sub(\"\\s{2,}|[^0-9a-zA-Z|^\\u0900-\\u097F|^\\s]\",\"\",x)\n",
    "    return x    "
   ]
  },
  {
   "cell_type": "code",
   "execution_count": 13,
   "metadata": {},
   "outputs": [],
   "source": [
    "#[^0-9a-zA-Z|^\\u0900-\\u097F|^\\s] --> to remove spl characters\n",
    "\"\"\"with db.cursor() as cursor:\n",
    "    for i in range(l):\n",
    "        x = re.sub(pattern,\"\",csvfile[\"tweet\"][i])\n",
    "        x = re.sub(\"\\s{2,}|[^0-9a-zA-Z|^\\u0900-\\u097F|^\\s]\",\"\",x)\n",
    "        sql = 'insert into tweets values(\"%s\",\"%s\",\"%s\")'\n",
    "        params = (int(csvfile[\"id\"][i]), x, csvfile[\"lang\"][i])\n",
    "        cursor.execute(sql, params)\n",
    "db.commit()\n",
    "db.close()\"\"\"\n",
    "csvfile['tweet'] = csvfile['tweet'].apply(filter)"
   ]
  },
  {
   "cell_type": "code",
   "execution_count": 14,
   "metadata": {
    "scrolled": false
   },
   "outputs": [
    {
     "name": "stdout",
     "output_type": "stream",
     "text": [
      "ok\n"
     ]
    }
   ],
   "source": [
    "csvfile.to_sql('tweets', engine, if_exists='append', index=False)\n",
    "print (\"ok\")"
   ]
  },
  {
   "cell_type": "code",
   "execution_count": 15,
   "metadata": {},
   "outputs": [
    {
     "data": {
      "text/html": [
       "<div>\n",
       "<style scoped>\n",
       "    .dataframe tbody tr th:only-of-type {\n",
       "        vertical-align: middle;\n",
       "    }\n",
       "\n",
       "    .dataframe tbody tr th {\n",
       "        vertical-align: top;\n",
       "    }\n",
       "\n",
       "    .dataframe thead th {\n",
       "        text-align: right;\n",
       "    }\n",
       "</style>\n",
       "<table border=\"1\" class=\"dataframe\">\n",
       "  <thead>\n",
       "    <tr style=\"text-align: right;\">\n",
       "      <th></th>\n",
       "      <th>id</th>\n",
       "      <th>lang</th>\n",
       "      <th>tweet</th>\n",
       "    </tr>\n",
       "  </thead>\n",
       "  <tbody>\n",
       "    <tr>\n",
       "      <td>812</td>\n",
       "      <td>1225083848255365120</td>\n",
       "      <td>en</td>\n",
       "      <td>मांगेबीजेपीA tribute to my favorite and BJPees...</td>\n",
       "    </tr>\n",
       "  </tbody>\n",
       "</table>\n",
       "</div>"
      ],
      "text/plain": [
       "                      id lang  \\\n",
       "812  1225083848255365120   en   \n",
       "\n",
       "                                                 tweet  \n",
       "812  मांगेबीजेपीA tribute to my favorite and BJPees...  "
      ]
     },
     "execution_count": 15,
     "metadata": {},
     "output_type": "execute_result"
    }
   ],
   "source": [
    "csvfile.loc[[812]]"
   ]
  },
  {
   "cell_type": "code",
   "execution_count": null,
   "metadata": {},
   "outputs": [],
   "source": []
  },
  {
   "cell_type": "code",
   "execution_count": null,
   "metadata": {},
   "outputs": [],
   "source": []
  }
 ],
 "metadata": {
  "kernelspec": {
   "display_name": "Python 3",
   "language": "python",
   "name": "python3"
  },
  "language_info": {
   "codemirror_mode": {
    "name": "ipython",
    "version": 3
   },
   "file_extension": ".py",
   "mimetype": "text/x-python",
   "name": "python",
   "nbconvert_exporter": "python",
   "pygments_lexer": "ipython3",
   "version": "3.7.4"
  }
 },
 "nbformat": 4,
 "nbformat_minor": 2
}
