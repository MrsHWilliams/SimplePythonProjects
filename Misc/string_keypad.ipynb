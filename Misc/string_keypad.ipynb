{
 "cells": [
  {
   "cell_type": "code",
   "execution_count": 1,
   "metadata": {},
   "outputs": [],
   "source": [
    "# The program generates numeric version of a string typed on old keypad phone....."
   ]
  },
  {
   "cell_type": "code",
   "execution_count": 2,
   "metadata": {},
   "outputs": [],
   "source": [
    "keypad = [\n",
    "          (1, \" \"),\n",
    "          (2, \"abc\"),\n",
    "          (3, \"def\"),\n",
    "          (4, \"ghi\"),\n",
    "          (5,\"jkl\"),\n",
    "          (6, \"mno\"),\n",
    "          (7, \"pqrs\"),\n",
    "          (8, \"tuv\"),\n",
    "          (9, \"wxyz\")\n",
    "         ]\n",
    "\n",
    "inp = \"suleman\""
   ]
  },
  {
   "cell_type": "code",
   "execution_count": 3,
   "metadata": {},
   "outputs": [
    {
     "name": "stdout",
     "output_type": "stream",
     "text": [
      "777788555336266"
     ]
    }
   ],
   "source": [
    "for char in inp:\n",
    "    for i in range(len(keypad)):\n",
    "        if char in keypad[i][1]:\n",
    "            x = keypad[i][1].index(char)            \n",
    "            x+=1\n",
    "            print(str(keypad[i][0])*x, end='')"
   ]
  },
  {
   "cell_type": "code",
   "execution_count": null,
   "metadata": {},
   "outputs": [],
   "source": []
  },
  {
   "cell_type": "code",
   "execution_count": null,
   "metadata": {},
   "outputs": [],
   "source": []
  }
 ],
 "metadata": {
  "kernelspec": {
   "display_name": "Python 3",
   "language": "python",
   "name": "python3"
  },
  "language_info": {
   "codemirror_mode": {
    "name": "ipython",
    "version": 3
   },
   "file_extension": ".py",
   "mimetype": "text/x-python",
   "name": "python",
   "nbconvert_exporter": "python",
   "pygments_lexer": "ipython3",
   "version": "3.7.4"
  }
 },
 "nbformat": 4,
 "nbformat_minor": 2
}
