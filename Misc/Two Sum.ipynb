{
 "cells": [
  {
   "cell_type": "code",
   "execution_count": 1,
   "metadata": {},
   "outputs": [
    {
     "name": "stdout",
     "output_type": "stream",
     "text": [
      "Keep entering items of the list and press x to stop\n",
      "--> 3\n",
      "--> 4\n",
      "--> 6\n",
      "--> 8\n",
      "--> x\n",
      "\n",
      "Entered array of numbers is:  [3, 4, 6, 8]\n",
      "\n",
      "Enter the sum you want to check: 11\n",
      "Sum of the elements at 0 and 3 index is 11\n"
     ]
    }
   ],
   "source": [
    "#!/usr/bin/env python3\n",
    "# -*- coding: utf-8 -*-\n",
    "\"\"\"\n",
    "Created on Wed Jan 29 04:19:28 2020\n",
    "\n",
    "\"\"\"\n",
    "numbers = []\n",
    "\n",
    "print(\"Keep entering items of the list and press x to stop\")\n",
    "\n",
    "while 1:\n",
    "    \n",
    "    i = input(\"--> \")\n",
    "    if i == 'x':\n",
    "        break\n",
    "    else:\n",
    "        numbers.append(int(i))\n",
    "    \n",
    "print(\"\\nEntered array of numbers is: \", numbers)\n",
    "sm = int(input(\"\\nEnter the sum you want to check: \"))\n",
    "\n",
    "for i in numbers:\n",
    "    if sm - i in numbers:\n",
    "        print(f\"Sum of the elements at {numbers.index(i)} and {numbers.index(sm - i)} index is {sm}\")\n",
    "        break"
   ]
  },
  {
   "cell_type": "code",
   "execution_count": null,
   "metadata": {},
   "outputs": [],
   "source": []
  }
 ],
 "metadata": {
  "kernelspec": {
   "display_name": "Python 3",
   "language": "python",
   "name": "python3"
  },
  "language_info": {
   "codemirror_mode": {
    "name": "ipython",
    "version": 3
   },
   "file_extension": ".py",
   "mimetype": "text/x-python",
   "name": "python",
   "nbconvert_exporter": "python",
   "pygments_lexer": "ipython3",
   "version": "3.7.4"
  }
 },
 "nbformat": 4,
 "nbformat_minor": 2
}
